{
 "cells": [
  {
   "cell_type": "code",
   "execution_count": 2,
   "metadata": {},
   "outputs": [
    {
     "data": {
      "text/html": [
       "<div>\n",
       "<style scoped>\n",
       "    .dataframe tbody tr th:only-of-type {\n",
       "        vertical-align: middle;\n",
       "    }\n",
       "\n",
       "    .dataframe tbody tr th {\n",
       "        vertical-align: top;\n",
       "    }\n",
       "\n",
       "    .dataframe thead th {\n",
       "        text-align: right;\n",
       "    }\n",
       "</style>\n",
       "<table border=\"1\" class=\"dataframe\">\n",
       "  <thead>\n",
       "    <tr style=\"text-align: right;\">\n",
       "      <th></th>\n",
       "      <th>image_file_path</th>\n",
       "      <th>image_content</th>\n",
       "      <th>content_type</th>\n",
       "    </tr>\n",
       "  </thead>\n",
       "  <tbody>\n",
       "    <tr>\n",
       "      <th>0</th>\n",
       "      <td>init_img</td>\n",
       "      <td>init_content</td>\n",
       "      <td>init_type</td>\n",
       "    </tr>\n",
       "    <tr>\n",
       "      <th>1</th>\n",
       "      <td>D:/repo/clara-image-genie\\test_images\\aarn-gir...</td>\n",
       "      <td>a bird flying through the air with a blue sky</td>\n",
       "      <td>image description</td>\n",
       "    </tr>\n",
       "    <tr>\n",
       "      <th>2</th>\n",
       "      <td>D:/repo/clara-image-genie\\test_images\\andres-g...</td>\n",
       "      <td>a wooden chair sitting on top of a wooden bench</td>\n",
       "      <td>image description</td>\n",
       "    </tr>\n",
       "    <tr>\n",
       "      <th>3</th>\n",
       "      <td>D:/repo/clara-image-genie\\test_images\\andriyko...</td>\n",
       "      <td>a cat sitting in the middle of a grassy field</td>\n",
       "      <td>image description</td>\n",
       "    </tr>\n",
       "    <tr>\n",
       "      <th>4</th>\n",
       "      <td>D:/repo/clara-image-genie\\test_images\\anne-ros...</td>\n",
       "      <td>a street sign with a bunch of stickers on it</td>\n",
       "      <td>image description</td>\n",
       "    </tr>\n",
       "    <tr>\n",
       "      <th>...</th>\n",
       "      <td>...</td>\n",
       "      <td>...</td>\n",
       "      <td>...</td>\n",
       "    </tr>\n",
       "    <tr>\n",
       "      <th>153</th>\n",
       "      <td>D:/repo/clara-image-genie/app/mysite/images\\se...</td>\n",
       "      <td>[]</td>\n",
       "      <td>OCR</td>\n",
       "    </tr>\n",
       "    <tr>\n",
       "      <th>154</th>\n",
       "      <td>D:/repo/clara-image-genie/app/mysite/images\\ti...</td>\n",
       "      <td>['ATTRACTION']</td>\n",
       "      <td>OCR</td>\n",
       "    </tr>\n",
       "    <tr>\n",
       "      <th>155</th>\n",
       "      <td>D:/repo/clara-image-genie/app/mysite/images\\vi...</td>\n",
       "      <td>[]</td>\n",
       "      <td>OCR</td>\n",
       "    </tr>\n",
       "    <tr>\n",
       "      <th>156</th>\n",
       "      <td>D:/repo/clara-image-genie/app/mysite/images\\wr...</td>\n",
       "      <td>[]</td>\n",
       "      <td>OCR</td>\n",
       "    </tr>\n",
       "    <tr>\n",
       "      <th>157</th>\n",
       "      <td>D:/repo/clara-image-genie/app/mysite/images\\wr...</td>\n",
       "      <td>[]</td>\n",
       "      <td>OCR</td>\n",
       "    </tr>\n",
       "  </tbody>\n",
       "</table>\n",
       "<p>158 rows × 3 columns</p>\n",
       "</div>"
      ],
      "text/plain": [
       "                                       image_file_path  \\\n",
       "0                                             init_img   \n",
       "1    D:/repo/clara-image-genie\\test_images\\aarn-gir...   \n",
       "2    D:/repo/clara-image-genie\\test_images\\andres-g...   \n",
       "3    D:/repo/clara-image-genie\\test_images\\andriyko...   \n",
       "4    D:/repo/clara-image-genie\\test_images\\anne-ros...   \n",
       "..                                                 ...   \n",
       "153  D:/repo/clara-image-genie/app/mysite/images\\se...   \n",
       "154  D:/repo/clara-image-genie/app/mysite/images\\ti...   \n",
       "155  D:/repo/clara-image-genie/app/mysite/images\\vi...   \n",
       "156  D:/repo/clara-image-genie/app/mysite/images\\wr...   \n",
       "157  D:/repo/clara-image-genie/app/mysite/images\\wr...   \n",
       "\n",
       "                                       image_content       content_type  \n",
       "0                                       init_content          init_type  \n",
       "1      a bird flying through the air with a blue sky  image description  \n",
       "2    a wooden chair sitting on top of a wooden bench  image description  \n",
       "3      a cat sitting in the middle of a grassy field  image description  \n",
       "4       a street sign with a bunch of stickers on it  image description  \n",
       "..                                               ...                ...  \n",
       "153                                               []                OCR  \n",
       "154                                   ['ATTRACTION']                OCR  \n",
       "155                                               []                OCR  \n",
       "156                                               []                OCR  \n",
       "157                                               []                OCR  \n",
       "\n",
       "[158 rows x 3 columns]"
      ]
     },
     "execution_count": 2,
     "metadata": {},
     "output_type": "execute_result"
    }
   ],
   "source": [
    "import pandas as pd\n",
    "import os\n",
    "\n",
    "csv = r'D:\\repo\\clara-image-genie\\model_cache\\model_cache.csv'.replace('\\\\', '/')\n",
    "df = pd.read_csv(csv)\n",
    "df"
   ]
  },
  {
   "cell_type": "code",
   "execution_count": 17,
   "metadata": {},
   "outputs": [
    {
     "name": "stdout",
     "output_type": "stream",
     "text": [
      "False\n",
      "True\n",
      "cached\n",
      "a cat that is standing on the edge of a pier\n"
     ]
    }
   ],
   "source": [
    "image_file_path = 'D:/repo/clara-image-genie/archive-deprecated/test_images/wren-meinberg-AL2-t0GrSko-unsplash.jpg'\n",
    "image_file_name = os.path.basename(image_file_path)\n",
    "\n",
    "search_type = 'image description'\n",
    "# image_file_path in df[df.content_type == search_type].image_file_path.values\n",
    "# not df[df.content_type == search_type].image_file_path.str.contains(image_file_name).empty\n",
    "\n",
    "print(image_file_path in df[df.content_type == search_type].image_file_path.values)\n",
    "print(not df[df.content_type == search_type].image_file_path.str.contains(image_file_name).empty)\n",
    "\n",
    "if ((image_file_path in df[df.content_type == search_type].image_file_path.values)\n",
    "            | (not df[df.content_type == search_type].image_file_path.str.contains(image_file_name).empty)\n",
    "            ):\n",
    "    print('cached')\n",
    "    data = df[(df.image_file_path.str.contains(image_file_name)) # future: use full path to avoid namesake\n",
    "                                    & (df.content_type == search_type)].image_content.values[0]\n",
    "print(data)"
   ]
  },
  {
   "cell_type": "code",
   "execution_count": 19,
   "metadata": {},
   "outputs": [
    {
     "name": "stdout",
     "output_type": "stream",
     "text": [
      "['aarn-giri-IBhsB71R97k-unsplash.jpg', 'andres-gomez-tlKTvMlu_fA-unsplash.jpg', 'andriyko-podilnyk-RCfi7vgJjUY-unsplash.jpg', 'anne-rosly-RZo9TnwsYhQ-unsplash.jpg', 'belinda-fewings-xE8CrYMf84E-unsplash.jpg', 'benigno-hoyuela-AqX_786_G0g-unsplash.jpg', 'bogdan-farca-CEx86maLUSc-unsplash.jpg', 'bogdan-kupriets-FqmrlQ2cezk-unsplash.jpg', 'brendan-church-pKeF6Tt3c08-unsplash.jpg', 'chang-qing-8oPubUm97Cc-unsplash.jpg', 'florian-klauer-nptLmg6jqDo-unsplash.jpg', 'giorgio-trovato-K62u25Jk6vo-unsplash.jpg', 'gunnar-ridderstrom-2teCcBcAZw4-unsplash.jpg', 'iman-Vaugz0s98pI-unsplash.jpg', 'jari-hytonen-YCPkW_r_6uA-unsplash.jpg', 'jon-tyson-pFnvc1Cu6zI-unsplash.jpg', 'kari-shea-eMzblc6JmXM-unsplash.jpg', 'karina-vorozheeva-Kol2ib6ehQE-unsplash.jpg', 'karina-vorozheeva-rW-I87aPY5Y-unsplash.jpg', 'kote-puerto-so5nsYDOdxw-unsplash.jpg', 'logan-weaver-lgnwvr-gMb4pRfDB0Y-unsplash.jpg', 'luke-chesser-LG8ToawE8WQ-unsplash.jpg', 'matthew-feeney-36BKnAgziog-unsplash.jpg', 'michael-sum-LEpfefQf4rU-unsplash.jpg', 'ochir-erdene-oyunmedeg-LmyPLbbUWhA-unsplash.jpg', 'paul-hanaoka-w2DsS-ZAP4U-unsplash.jpg', 'raoul-droog-yMSecCHsIBc-unsplash.jpg', 'screenshot-east-howe.jpg', 'screenshot-Feynman-diagram.jpg', 'screenshot-meme-pip-future.jpeg', 'screenshot-quantum-electrodynamics.jpg', 'screenshot-science-wikibooks.jpg', 'screenshot-wikignome.jpg', 'Screenshot_from_2023-02-04_17-32-07.png', 'Screenshot_from_2023-02-04_21-26-39.png', 'sebastian-coman-travel-dtOTQYmTEs0-unsplash.jpg', 'tim-mossholder-24a3DKNvl1U-unsplash.jpg', 'visnu-deva-WZBSRWPKBDw-unsplash.jpg', 'wren-meinberg-AL2-t0GrSko-unsplash.jpg', 'wren-meinberg-AL2-t0GrSko-unsplash_z1a5wiH.jpg']\n",
      "not cached_bool:  [False False False False False False False False False False False False\n",
      " False False False False False False False False False False False False\n",
      " False False False False False False False False False False False False\n",
      " False False False False]\n",
      "all images are cached\n",
      "[]\n",
      "relevance_list:  [0, 0, 0, 0, 0, 0, 0, 0, 0, 0, 0, 0, 0, 0, 0, 0, 0, 0, 0, 0, 0, 0, 0, 0, 0, 0, 0, 2, 2, 1, 0, 0, 0, 0, 0, 0, 0, 0, 0, 0]\n",
      "\n",
      "\n",
      "['D:/repo/clara-image-genie/app/mysite/images\\\\screenshot-east-howe.jpg', 'D:/repo/clara-image-genie/app/mysite/images\\\\screenshot-Feynman-diagram.jpg', 'D:/repo/clara-image-genie/app/mysite/images\\\\screenshot-meme-pip-future.jpeg']\n"
     ]
    }
   ],
   "source": [
    "from image_content_extract import img2text\n",
    "search_type = 'OCR'\n",
    "query_str = 'time'\n",
    "relevant_images_top = img2text(search_type, query_str)"
   ]
  }
 ],
 "metadata": {
  "kernelspec": {
   "display_name": "base",
   "language": "python",
   "name": "python3"
  },
  "language_info": {
   "codemirror_mode": {
    "name": "ipython",
    "version": 3
   },
   "file_extension": ".py",
   "mimetype": "text/x-python",
   "name": "python",
   "nbconvert_exporter": "python",
   "pygments_lexer": "ipython3",
   "version": "3.9.16"
  },
  "orig_nbformat": 4,
  "vscode": {
   "interpreter": {
    "hash": "ec914cbb273dbefc52be6724be800e62abca1823c4fe2d1dfe36c964e75ce01e"
   }
  }
 },
 "nbformat": 4,
 "nbformat_minor": 2
}
